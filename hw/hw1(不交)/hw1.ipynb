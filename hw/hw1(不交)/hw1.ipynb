{
 "cells": [
  {
   "attachments": {},
   "cell_type": "markdown",
   "metadata": {},
   "source": [
    "### 作业一：\n",
    "\n",
    "利用Python 实现学生管理系统。该系统应具备的功能包括：\n",
    "\n",
    "（1） 添加学生及成绩信息\n",
    "\n",
    "（2）将学生信息保存到文件中\n",
    "\n",
    "（3） 修改和删除学生信息\n",
    "\n",
    "（4） 查询学生信息\n",
    "\n",
    "（5）根据学生成绩进行排序\n",
    "\n",
    "（6）统计学生的总分"
   ]
  },
  {
   "attachments": {},
   "cell_type": "markdown",
   "metadata": {},
   "source": [
    "+ 数据结构：\n",
    "    + 学生类\n",
    "        + 个人信息（字典）\n",
    "            + 姓名:string\n",
    "            + 学号:string\n",
    "        + 成绩信息（字典）\n",
    "            + 电子电路基础:int\n",
    "            + 电磁场与电磁波:int\n",
    "            + 信息控制与计算:int\n",
    "            + 数字信号处理:int\n",
    "            + 总分:int\n",
    "    + 数据库（字典）\n",
    "        + [学号]：学生实例\n",
    "        + 方法：\n",
    "            + add_student() 添加学生\n",
    "            + add_scoreEntry() 添加成绩信息\n",
    "            + edit_scoreEntry() 修改成绩信息\n",
    "            + search_student() 搜索学生，列出个人与成绩信息\n",
    "            + sort_student() 学生按某项成绩排序\n",
    "            + update_excel() 自动调用，保存到excel\n",
    "            + update_fullScore() 自动调用，更新总分"
   ]
  },
  {
   "cell_type": "code",
   "execution_count": null,
   "metadata": {},
   "outputs": [],
   "source": [
    "class Student:\n",
    "    def __init__(self,name,id,**kwarg):\n",
    "        if name is None or (type(name) == str and len(name)==0):\n",
    "            return \"姓名不能为空\"\n",
    "        \n",
    "        if id is None or (type(id) == str and len(id)==0):\n",
    "            return \"姓名不能为空\"\n",
    "        \n",
    "        self.name=name\n",
    "        self.id=id\n",
    "        self.grades=kwarg\n",
    "    \n",
    "class Database:\n",
    "    def __init__(self):\n",
    "        self.entries={}\n",
    "\n",
    "    def add_student(name,id):\n",
    "\n"
   ]
  },
  {
   "cell_type": "code",
   "execution_count": null,
   "metadata": {},
   "outputs": [],
   "source": []
  }
 ],
 "metadata": {
  "kernelspec": {
   "display_name": "d2l",
   "language": "python",
   "name": "python3"
  },
  "language_info": {
   "codemirror_mode": {
    "name": "ipython",
    "version": 3
   },
   "file_extension": ".py",
   "mimetype": "text/x-python",
   "name": "python",
   "nbconvert_exporter": "python",
   "pygments_lexer": "ipython3",
   "version": "3.9.16"
  },
  "orig_nbformat": 4
 },
 "nbformat": 4,
 "nbformat_minor": 2
}
