{
 "cells": [
  {
   "attachments": {},
   "cell_type": "markdown",
   "metadata": {},
   "source": [
    "张峪齐 3200105176 7月7日\n"
   ]
  },
  {
   "attachments": {},
   "cell_type": "markdown",
   "metadata": {},
   "source": [
    "### 第一题：简单线性回归"
   ]
  },
  {
   "cell_type": "markdown",
   "metadata": {},
   "source": [
    "#### 题目\n",
    "有20名学生，研究学生在考前复习时间与得到的成绩之间的相关关系。"
   ]
  },
  {
   "attachments": {},
   "cell_type": "markdown",
   "metadata": {},
   "source": [
    "\n",
    "\n",
    "```\n",
    "from collections import OrderedDict\n",
    "import pandas as pd\n",
    "examDict={\n",
    "    '学习时间':[0.50,0.75,1.00,1.25,1.50,1.75,1.75,2.00,2.25,\n",
    "                2.50,2.75,3.00,3.25,3.50,4.00,4.25,4.50,4.75,5.00,5.50],\n",
    "    '分数':    [10,  22,  13,  43,  20,  22,  33,  50,  62,  \n",
    "                48,  55,  75,  62,  73,  81,  76,  64,  82,  90,  93]\n",
    "}\n",
    "examOrderDict=OrderedDict(examDict)\n",
    "exam=pd.DataFrame(examOrderDict)\n",
    ">>> exam.head()\n",
    "\n",
    "   学习时间  分数\n",
    "0  0.50  10\n",
    "1  0.75  22\n",
    "2  1.00  13\n",
    "3  1.25  43\n",
    "4  1.50  20\n",
    "```\n",
    "\n",
    "+ 问题一：此数据适不适合用线性回归的模型？为什么？\n",
    "+ 问题二：划分训练集与测试集\n",
    "+ 问题三：模型的简单线性回归方程\n",
    "+ 问题四：评估模型精度。"
   ]
  },
  {
   "attachments": {},
   "cell_type": "markdown",
   "metadata": {},
   "source": [
    "#### 解答"
   ]
  },
  {
   "attachments": {},
   "cell_type": "markdown",
   "metadata": {},
   "source": [
    "1. 问题一\n",
    "\n",
    "    该数据比较适用线性回归的模型。\n",
    "\n",
    "    首先，解释变量（学习时间）和响应变量（分数）都为连续取值的变量，应当使用回归的方法。\n",
    "\n",
    "    其次如下所示画出数据分布图，数据分布并未呈现明显的非线性特征，因此可以使用线性回归。"
   ]
  },
  {
   "cell_type": "code",
   "execution_count": 554,
   "metadata": {},
   "outputs": [
    {
     "data": {
      "image/png": "[encoded data removed]",
      "text/plain": [
       "<Figure size 640x480 with 1 Axes>"
      ]
     },
     "metadata": {},
     "output_type": "display_data"
    }
   ],
   "source": [
    "from collections import OrderedDict\n",
    "# import pandas as pd\n",
    "import matplotlib.pyplot as plt\n",
    "examDict={\n",
    "    '学习时间':[0.50,0.75,1.00,1.25,1.50,1.75,1.75,2.00,2.25,2.50,2.75,3.00,3.25,3.50,4.00,4.25,4.50,4.75,5.00,5.50],\n",
    "    '分数':    [10,  22,  13,  43,  20,  22,  33,  50,  62,  48,  55,  75,  62,  73,  81,  76,  64,  82,  90,  93]\n",
    "}\n",
    "# examOrderDict=OrderedDict(examDict)\n",
    "# exam=pd.DataFrame(examOrderDict)\n",
    "# print(exam)\n",
    "\n",
    "plt.figure()\n",
    "plt.title(\"Score plotted against study time\")\n",
    "plt.xlabel('Study time')\n",
    "plt.ylabel('Score')\n",
    "plt.plot(examDict[\"学习时间\"],examDict[\"分数\"],'k.')\n",
    "plt.axis([0,7,0,100])\n",
    "plt.grid(True)\n",
    "plt.show()\n"
   ]
  },
  {
   "attachments": {},
   "cell_type": "markdown",
   "metadata": {},
   "source": [
    "2. 问题二\n",
    "    \n",
    "    划分训练集与测试集"
   ]
  },
  {
   "cell_type": "code",
   "execution_count": 555,
   "metadata": {},
   "outputs": [],
   "source": [
    "train_set={\"time\":examDict[\"学习时间\"][::2],\"score\":examDict[\"分数\"][::2]}\n",
    "test_set={\"time\":examDict[\"学习时间\"][1::2],\"score\":examDict[\"分数\"][1::2]}\n",
    "#print(train_set)\n",
    "#print(test_set)"
   ]
  },
  {
   "attachments": {},
   "cell_type": "markdown",
   "metadata": {},
   "source": [
    "3. 问题三\n",
    "\n",
    "    模型的简单线性回归方程"
   ]
  },
  {
   "cell_type": "code",
   "execution_count": 556,
   "metadata": {},
   "outputs": [
    {
     "name": "stdout",
     "output_type": "stream",
     "text": [
      "简单线性回归方程:y=17.400722021660652x+2.8880866425992764\n",
      "\n",
      "使用sklearn库得到的斜率和截距如下\n",
      "beta=[17.40072202],alpha=2.8880866425992764\n"
     ]
    }
   ],
   "source": [
    "# 先求解释变量的方差\n",
    "import numpy as np\n",
    "X=np.array(train_set[\"time\"])\n",
    "x_bar=X.mean()\n",
    "x_var=np.var(X,ddof=1) \n",
    "    #考虑贝塞尔校正的numpy方差函数，等效于x_var=((X-x_bar)**2).sum()/(X.shape[0]-1)\n",
    "\n",
    "\n",
    "# 再求解释变量和响应变量的协方差\n",
    "Y=np.array(train_set[\"score\"])\n",
    "y_bar=Y.mean()\n",
    "cov_xy=np.cov(X,Y)[0][1]\n",
    "    #从协方差矩阵得到协方差，等效于cov=np.multiply(X - x_bar, Y - y_bar).sum()/(X.shape[0] - 1)\n",
    "\n",
    "\n",
    "# 求直线斜率beta\n",
    "beta=cov_xy/x_var\n",
    "# 求直线截距alpha\n",
    "alpha=y_bar-beta*x_bar\n",
    "# 输出\n",
    "print(f\"简单线性回归方程:y={beta}x+{alpha}\")\n",
    "\n",
    "\n",
    "#################################################\n",
    "#直接使用sklearn库可以快速得到beta和alpha\n",
    "from sklearn.linear_model import LinearRegression\n",
    "model=LinearRegression()\n",
    "model.fit(X.reshape(-1,1),Y)#训练模型\n",
    "print(\"\\n使用sklearn库得到的斜率和截距如下\")\n",
    "print(f\"beta={model.coef_},alpha={model.intercept_}\")"
   ]
  },
  {
   "attachments": {},
   "cell_type": "markdown",
   "metadata": {},
   "source": [
    "4. 问题四\n",
    "    评估模型精度，使用R方评估"
   ]
  },
  {
   "cell_type": "code",
   "execution_count": 557,
   "metadata": {},
   "outputs": [
    {
     "name": "stdout",
     "output_type": "stream",
     "text": [
      "r_squared=0.7895629119156425\n",
      "\n",
      "使用sklearn库得到的R方值如下\n",
      "0.7895629119156425\n"
     ]
    }
   ],
   "source": [
    "# 先求出预测值：\n",
    "score_predict=beta*np.array(test_set[\"time\"])+alpha\n",
    "score_true=np.array(test_set[\"score\"])\n",
    "ss_res=((score_true-score_predict)**2).sum()\n",
    "ss_tot=score_true.var()*(score_true.shape[0])\n",
    "r_squared=1-ss_res/ss_tot\n",
    "print(f\"r_squared={r_squared}\")\n",
    "\n",
    "#################################################\n",
    "#直接使用sklearn库可以快速得到R方值\n",
    "print(\"\\n使用sklearn库得到的R方值如下\")\n",
    "print(model.score(np.array(test_set[\"time\"]).reshape(-1,1),np.array(test_set[\"score\"])))\n"
   ]
  },
  {
   "attachments": {},
   "cell_type": "markdown",
   "metadata": {},
   "source": [
    "$𝑅^2$ 计算得分为0.7895629119156425，这表明在本例中，线性回归模型有不错的拟合效果"
   ]
  },
  {
   "attachments": {},
   "cell_type": "markdown",
   "metadata": {},
   "source": [
    "### 第二题：多元线性回归"
   ]
  },
  {
   "attachments": {},
   "cell_type": "markdown",
   "metadata": {},
   "source": [
    "#### 题目\n",
    "线性回归预测糖尿病"
   ]
  },
  {
   "attachments": {},
   "cell_type": "markdown",
   "metadata": {},
   "source": [
    "##### 糖尿病数据集\n",
    "\n",
    "\n",
    "Sklearn 机器学习包提供了糖尿病数据集（Diabetes Dataset），该数据集主要包括442 行数据，10 个特征值，分别是：年龄（Age）、性别（Sex）、体质指数（Body mass index）、平均血压（Average Blood Pressure）、S1 S6 一年后疾病级数指标。预测指标为Target，它表示一年后患疾病的定量指标。\n",
    "\n",
    "```\n",
    "from sklearn import datasets\n",
    "diabetes = datasets.load_diabetes()\n",
    "print(diabetes.data)\n",
    "print(diabetes.target)\n",
    "```\n",
    "调用load_diabetes() 函数载入糖尿病数据集，然后输出其数据data 和类标target。输出总行数442 行，特征数共10 个，类型为（442L, 10L）。\n",
    "\n",
    "##### 代码实现\n",
    "\n",
    "\n",
    "现在我们将糖尿病数据集划分为训练集和测试集，整个数据集共442 行，我们取前422 行数据用来线性回归模型训练，后20 行数据用来预测。其中取预测数据的代码为```diabetes_x_temp[-20:]```，表示从后20 行开始取值，直到数组结束，共取值20 个数。整个数据集共10 个特征值，为了方便可视化画图我们只获取其中一个特征进行实验，这也可以绘制图形，而真实分析中，通常经过降维处理再绘制图形。这里获取第3 个特征，对应代码为：```diabetes_x_temp = diabetes.data[:, np.newaxis, 2]```\n",
    "\n",
    "\n",
    "##### 代码优化\n",
    "\n",
    "对代码进行优化。可视化绘图增加了散点到线性方程的距离线，增加了保存图片设置像素代码等。\n",
    "\n"
   ]
  },
  {
   "cell_type": "markdown",
   "metadata": {},
   "source": [
    "#### 解答"
   ]
  },
  {
   "cell_type": "code",
   "execution_count": 558,
   "metadata": {},
   "outputs": [
    {
     "name": "stdout",
     "output_type": "stream",
     "text": [
      "普通线性回归的R方=0.585085427447195\n"
     ]
    },
    {
     "data": {
      "image/png": "[encoded data removed]",
      "text/plain": [
       "<Figure size 640x480 with 1 Axes>"
      ]
     },
     "metadata": {},
     "output_type": "display_data"
    }
   ],
   "source": [
    "from sklearn.linear_model import LinearRegression\n",
    "from sklearn import datasets\n",
    "import matplotlib.pyplot as plt\n",
    "diabetes = datasets.load_diabetes()\n",
    "#print(diabetes.data)\n",
    "#print(diabetes.target)\n",
    "\n",
    "test_x=diabetes.data[-20:,:]\n",
    "train_x=diabetes.data[:422,:]\n",
    "test_y=diabetes.target[-20:]\n",
    "train_y=diabetes.target[:422]\n",
    "model=LinearRegression() #使用普通的线性回归\n",
    "model.fit(train_x,train_y) #训练模型\n",
    "predict_y=model.predict(test_x) #生成预测值\n",
    "\n",
    "test_x_3 = test_x[:,np.newaxis,2]# 取第3个特征\n",
    "plt.figure()\n",
    "plt.title(\"Diabetes Index against the 3rd Feature\")\n",
    "plt.xlabel('the 3rd Feature')\n",
    "plt.ylabel('Index')\n",
    "p_predict,=plt.plot(test_x_3,predict_y,'*b')\n",
    "p_test,=plt.plot(test_x_3,test_y,'.r') # 此处要加逗号！\n",
    "plt.legend([p_predict,p_test],[\"Predicted Index\",\"True Index\"],loc=\"upper left\")\n",
    "for i in range(0,len(test_x)):\n",
    "    plt.plot([test_x_3[i],test_x_3[i]],[predict_y[i],test_y[i]],\":\",color=\"orange\" if predict_y[i]>test_y[i]else\"black\",linewidth=1)\n",
    "\n",
    "print(f\"普通线性回归的R方={model.score(test_x,test_y)}\")\n",
    "\n"
   ]
  },
  {
   "attachments": {},
   "cell_type": "markdown",
   "metadata": {},
   "source": [
    "### 第三题：局部加权线性回归"
   ]
  },
  {
   "attachments": {},
   "cell_type": "markdown",
   "metadata": {},
   "source": [
    "#### 题目\n",
    "预测鲍鱼的年龄"
   ]
  },
  {
   "attachments": {},
   "cell_type": "markdown",
   "metadata": {},
   "source": [
    "\n",
    "\n",
    "+ 数据集介绍\n",
    "\n",
    "    鲍鱼数据集可以从UCI中获得。此数据集数据以逗号分隔，没有列头。每个列的名字存在另外一个文件中。建立预测模型所需的数据包括性别、长度、直径、高度、整体重量、去壳后重量、脏器重量、壳的重量、环数。最后一列“环数”是十分耗时采获得的，需要锯开壳，然后在显微镜下观察得到。这是一个有监督机器学习方法通常需要的准备工作。基于一个已知答案的数据集构建预测模型，然后用这个预测模型预测不知道答案的数据。鲍鱼年龄可以从鲍鱼壳的层数推算得到。\n",
    "\n",
    "要求：\n",
    "\n",
    "+ 从浙大云盘下载数据并编写读数据的程序；\n",
    "+ 建立线性模型预测鲍鱼的年龄；\n",
    "+ 利用局部加权线性回归预测鲍鱼的年龄；\n",
    "+ 可视化预测结果；\n",
    "+ 评估不同模型（利用前100 个数据训练，100-200 数据用于测试）。"
   ]
  },
  {
   "cell_type": "markdown",
   "metadata": {},
   "source": [
    "#### 解答"
   ]
  },
  {
   "attachments": {},
   "cell_type": "markdown",
   "metadata": {},
   "source": [
    "1. 读取数据并使用普通的线性回归（最小二乘法）预测鲍鱼的年龄"
   ]
  },
  {
   "cell_type": "code",
   "execution_count": 559,
   "metadata": {},
   "outputs": [
    {
     "name": "stdout",
     "output_type": "stream",
     "text": [
      "\n",
      "\n",
      "线性回归的R方值：0.5282058423842003\n",
      "相关系数矩阵为：\n",
      "[[1.         0.82470627]\n",
      " [0.82470627 1.        ]]\n"
     ]
    }
   ],
   "source": [
    "from pandas import read_table\n",
    "DataFrame=read_table('hw2-abalone.txt',header=None,names=['Gender','Length','diameter','height','gross_weight','net_weight','inner_weight','shell_weight','rings'])\n",
    "data=np.array(DataFrame)\n",
    "features=data[:,0:8]\n",
    "rings=data[:,-1]\n",
    "\n",
    "train_x=features[:100,:]\n",
    "train_y=rings[:100]\n",
    "test_x=features[100:200,:]\n",
    "test_y=rings[100:200]\n",
    "\n",
    "#使用简单线性回归\n",
    "olr_model=LinearRegression()\n",
    "olr_model.fit(train_x,train_y) #训练模型\n",
    "olr_predict_y=olr_model.predict(test_x) #生成预测值\n",
    "print(f\"\\n\\n线性回归的R方值：{olr_model.score(test_x,test_y)}\")\n",
    "print(\"相关系数矩阵为：\")\n",
    "print(np.corrcoef(olr_predict_y.T,test_y))"
   ]
  },
  {
   "attachments": {},
   "cell_type": "markdown",
   "metadata": {},
   "source": [
    "2. 使用局部加权线性回归预测鲍鱼的年龄"
   ]
  },
  {
   "cell_type": "code",
   "execution_count": 560,
   "metadata": {},
   "outputs": [
    {
     "name": "stderr",
     "output_type": "stream",
     "text": [
      "C:\\Users\\18263\\AppData\\Local\\Temp\\ipykernel_5320\\3004512914.py:17: DeprecationWarning: Conversion of an array with ndim > 0 to a scalar is deprecated, and will error in future. Ensure you extract a single element from your array before performing this operation. (Deprecated NumPy 1.25.)\n",
      "  weights[j, j] = np.exp(diffMat*diffMat.T/ (-2.0 * k ** 2))\n",
      "C:\\Users\\18263\\AppData\\Local\\Temp\\ipykernel_5320\\3004512914.py:43: DeprecationWarning: Conversion of an array with ndim > 0 to a scalar is deprecated, and will error in future. Ensure you extract a single element from your array before performing this operation. (Deprecated NumPy 1.25.)\n",
      "  yHat[i] = lwlr(testArr[i], xArr, yArr, k)\n"
     ]
    },
    {
     "name": "stdout",
     "output_type": "stream",
     "text": [
      "\n",
      "\n",
      "当k取2.0时局部加权线性回归的R方值：0.6054073828945193\n",
      "相关系数矩阵为：\n",
      "[[1.         0.83835757]\n",
      " [0.83835757 1.        ]]\n"
     ]
    }
   ],
   "source": [
    "\n",
    "def lwlr(testPoint, xArr, yArr, k=1.0):\n",
    "    \"\"\"\n",
    "    Parameters:\n",
    "    testPoint - 测试样本点\n",
    "    xArr - x数据集\n",
    "    yArr - y数据集\n",
    "    k - 高斯核的k,自定义参数\n",
    "    Returns:\n",
    "    ws - 回归系数\n",
    "    \"\"\"\n",
    "    xMat = np.mat(xArr)\n",
    "    yMat = np.mat(yArr).T\n",
    "    m = np.shape(xMat)[0]\n",
    "    weights = np.mat(np.eye((m))) # 创建权重对角矩阵\n",
    "    for j in range(m): # 遍历数据集计算每个样本的权重\n",
    "        diffMat = testPoint - xMat[j, :]\n",
    "        weights[j, j] = np.exp(diffMat*diffMat.T/ (-2.0 * k ** 2))\n",
    "        xTx = xMat.T * (weights * xMat)\n",
    "    if np.linalg.det(xTx) == 0.0:\n",
    "        print(\"矩阵为奇异矩阵,不能求逆\")\n",
    "        return\n",
    "    ws = xTx.I * (xMat.T * (weights * yMat)) # 计算回归系数\n",
    "    #print(ws.shape)\n",
    "    #print(testPoint.shape)\n",
    "    #temp=np.array(testPoint*ws)\n",
    "    #print(temp.shape)\n",
    "    return np.array(testPoint * ws)\n",
    "\n",
    "# 局部加权线性回归测试\n",
    "def lwlrTest(testArr, xArr, yArr, k=1.0):\n",
    "    \"\"\"\n",
    "    Parameters:\n",
    "    testArr - 测试数据集\n",
    "    xArr - x数据集\n",
    "    yArr - y数据集\n",
    "    k - 高斯核的k,自定义参数\n",
    "    Returns:\n",
    "    ws - 回归系数\n",
    "    \"\"\"\n",
    "    m = np.shape(testArr)[0] # 计算测试数据集大小\n",
    "    yHat = np.zeros(m)\n",
    "    for i in range(m): # 对每个样本点进行预测\n",
    "        yHat[i] = lwlr(testArr[i], xArr, yArr, k)\n",
    "    return yHat\n",
    "\n",
    "k=2.0\n",
    "predict_y=lwlrTest(test_x,train_x,train_y,k)\n",
    "ss_res=((test_y-predict_y)**2).sum()\n",
    "ss_tot=test_y.var()*(test_y.shape[0])\n",
    "r_squared=1-ss_res/ss_tot\n",
    "print(f\"\\n\\n当k取{k}时局部加权线性回归的R方值：{r_squared}\")\n",
    "print(\"相关系数矩阵为：\")\n",
    "print(np.corrcoef(predict_y.T,test_y))"
   ]
  },
  {
   "attachments": {},
   "cell_type": "markdown",
   "metadata": {},
   "source": [
    "### 第四题：逻辑回归"
   ]
  },
  {
   "attachments": {},
   "cell_type": "markdown",
   "metadata": {},
   "source": [
    "#### 题目：\n",
    "通过Logistic Regression 预测Titanic 乘客是否能在事故中生还。"
   ]
  },
  {
   "attachments": {},
   "cell_type": "markdown",
   "metadata": {},
   "source": [
    "从学在浙大上下载数据。\n",
    "\n",
    "+ 导入工具库和数据\n",
    "+ 查看缺失数据\n",
    "    + 年龄\n",
    "    + 仓位\n",
    "    + 登船地点\n",
    "\n",
    "+ 对数据进行调整\n",
    "\n",
    "    对缺失的数据如何处理？年龄，仓位，登录地点？\n",
    "\n",
    "+ 额外的变量\n",
    "\n",
    "    其他数据如何处理\n",
    "\n",
    "+ 数据分析\n",
    "\n",
    "    性别分别、仓位分布、哪个地点登陆的乘客容易生还\n",
    "\n",
    "+ Logistic Regression\n",
    "\n",
    "    如何建立模型？如何评估？"
   ]
  },
  {
   "attachments": {},
   "cell_type": "markdown",
   "metadata": {},
   "source": [
    "#### 解答\n"
   ]
  },
  {
   "cell_type": "markdown",
   "metadata": {},
   "source": [
    "##### 导入工具库和数据\n"
   ]
  },
  {
   "cell_type": "code",
   "execution_count": 561,
   "metadata": {},
   "outputs": [
    {
     "name": "stdout",
     "output_type": "stream",
     "text": [
      "数据集包含的数据个数1310.\n"
     ]
    }
   ],
   "source": [
    "import numpy as np\n",
    "import pandas as pd\n",
    "from sklearn import preprocessing\n",
    "import matplotlib.pyplot as plt\n",
    "plt.rc(\"font\", size=14)\n",
    "import seaborn as sns\n",
    "sns.set(style=\"white\") #设置seaborn画图的背景为白色\n",
    "sns.set(style=\"whitegrid\", color_codes=True)\n",
    "# 将数据读入DataFrame\n",
    "df = pd.read_csv(\"./hw2-titanic_data.csv\")\n",
    "# 预览数据\n",
    "df.head()\n",
    "print('数据集包含的数据个数{}.'.format(df.shape[0]))"
   ]
  },
  {
   "cell_type": "markdown",
   "metadata": {},
   "source": [
    "##### 查看缺失的数据"
   ]
  },
  {
   "cell_type": "markdown",
   "metadata": {},
   "source": [
    "+ 年龄"
   ]
  },
  {
   "cell_type": "code",
   "execution_count": 562,
   "metadata": {},
   "outputs": [
    {
     "name": "stdout",
     "output_type": "stream",
     "text": [
      "\"age\"特征缺失的百分比为20.15%\n",
      "\n",
      "年龄分布图如下所示：\n"
     ]
    },
    {
     "data": {
      "image/png": "[encoded data removed]",
      "text/plain": [
       "<Figure size 640x480 with 1 Axes>"
      ]
     },
     "metadata": {},
     "output_type": "display_data"
    }
   ],
   "source": [
    "print('\"age\"特征缺失的百分比为%.2f%%' %((df['age'].isnull().sum()/df.shape[0])*100))\n",
    "\n",
    "print(\"\\n年龄分布图如下所示：\")\n",
    "ax = df[\"age\"].hist(bins=15, color='cadetblue', alpha=0.9)\n",
    "ax.set(xlabel='age')\n",
    "plt.xlim(-10,85)\n",
    "plt.title(\"Age Distribution\")\n",
    "plt.show()"
   ]
  },
  {
   "cell_type": "markdown",
   "metadata": {},
   "source": [
    "可以看到年龄有20.15%缺失，缺失率不高，且年龄特征作为重要的影响因素，可以考虑补充20.15%的年龄数据。\n",
    "\n",
    "数据缺失的情况下，插补的方法有如下选择：\n",
    "\n",
    "+ 均值一般适用于近似正态分布数据，观测值较为均匀散布均值周围；\n",
    "+ 中位数一般适用于偏态分布或者有离群点数据，中位数是更好地代表数据中心趋势；\n",
    "+ 众数一般用于类别变量，无大小、先后顺序之分。\n",
    "\n",
    "根据年龄分布图，可见使用中位数填补缺失数据，更适合本例。"
   ]
  },
  {
   "cell_type": "markdown",
   "metadata": {},
   "source": [
    "+ 仓位"
   ]
  },
  {
   "cell_type": "code",
   "execution_count": 563,
   "metadata": {},
   "outputs": [
    {
     "name": "stdout",
     "output_type": "stream",
     "text": [
      "\"Cabin\" 特征缺失的百分比为77.48%\n"
     ]
    }
   ],
   "source": [
    "# 仓位缺失的百分比\n",
    "print('\"Cabin\" 特征缺失的百分比为%.2f%%' %((df['cabin'].isnull().sum()/df.shape[0])*100))"
   ]
  },
  {
   "cell_type": "markdown",
   "metadata": {},
   "source": [
    "缺失的比例很大，达77.48%，因此丢弃此特征"
   ]
  },
  {
   "cell_type": "markdown",
   "metadata": {},
   "source": [
    "+ 登船地点"
   ]
  },
  {
   "cell_type": "code",
   "execution_count": 564,
   "metadata": {},
   "outputs": [
    {
     "name": "stdout",
     "output_type": "stream",
     "text": [
      "\"Embarked\" 缺失的百分比0.23%\n",
      "登船地点统计图如下：\n"
     ]
    },
    {
     "data": {
      "image/png": "[encoded data removed]",
      "text/plain": [
       "<Figure size 640x480 with 1 Axes>"
      ]
     },
     "metadata": {},
     "output_type": "display_data"
    }
   ],
   "source": [
    "# 登船地点的缺失率\n",
    "print('\"Embarked\" 缺失的百分比%.2f%%' %((df['embarked'].isnull().sum()/df.shape[0])*100))\n",
    "\n",
    "print(\"登船地点统计图如下：\")\n",
    "sns.countplot(x='embarked', data=df, palette='Set2')\n",
    "plt.title(\"Embarked Place Distribution  \")\n",
    "plt.show()"
   ]
  },
  {
   "cell_type": "markdown",
   "metadata": {},
   "source": [
    "缺失的比例很小，且“登船地点”特征的取值是离散取值，故选择使用众数（Southampton）进行填补。\n",
    "\n",
    "Southampton登船的乘客显著多于其它地点，用它填充少量缺失数据显然不会引起太大的偏差。"
   ]
  },
  {
   "cell_type": "markdown",
   "metadata": {},
   "source": [
    "##### 对数据进行调整"
   ]
  },
  {
   "cell_type": "markdown",
   "metadata": {},
   "source": [
    "使用sklearn自带的数据填补函数："
   ]
  },
  {
   "cell_type": "code",
   "execution_count": 565,
   "metadata": {},
   "outputs": [
    {
     "name": "stdout",
     "output_type": "stream",
     "text": [
      "\"age\"特征缺失的百分比为0.00%\n",
      "\"embarked\"特征缺失的百分比为0.00%\n"
     ]
    },
    {
     "data": {
      "text/html": [
       "<div>\n",
       "<style scoped>\n",
       "    .dataframe tbody tr th:only-of-type {\n",
       "        vertical-align: middle;\n",
       "    }\n",
       "\n",
       "    .dataframe tbody tr th {\n",
       "        vertical-align: top;\n",
       "    }\n",
       "\n",
       "    .dataframe thead th {\n",
       "        text-align: right;\n",
       "    }\n",
       "</style>\n",
       "<table border=\"1\" class=\"dataframe\">\n",
       "  <thead>\n",
       "    <tr style=\"text-align: right;\">\n",
       "      <th></th>\n",
       "      <th>pclass</th>\n",
       "      <th>survived</th>\n",
       "      <th>name</th>\n",
       "      <th>sex</th>\n",
       "      <th>age</th>\n",
       "      <th>sibsp</th>\n",
       "      <th>parch</th>\n",
       "      <th>ticket</th>\n",
       "      <th>fare</th>\n",
       "      <th>embarked</th>\n",
       "    </tr>\n",
       "  </thead>\n",
       "  <tbody>\n",
       "    <tr>\n",
       "      <th>0</th>\n",
       "      <td>1.0</td>\n",
       "      <td>1.0</td>\n",
       "      <td>Allen, Miss. Elisabeth Walton</td>\n",
       "      <td>female</td>\n",
       "      <td>29.0000</td>\n",
       "      <td>0.0</td>\n",
       "      <td>0.0</td>\n",
       "      <td>24160</td>\n",
       "      <td>211.3375</td>\n",
       "      <td>S</td>\n",
       "    </tr>\n",
       "    <tr>\n",
       "      <th>1</th>\n",
       "      <td>1.0</td>\n",
       "      <td>1.0</td>\n",
       "      <td>Allison, Master. Hudson Trevor</td>\n",
       "      <td>male</td>\n",
       "      <td>0.9167</td>\n",
       "      <td>1.0</td>\n",
       "      <td>2.0</td>\n",
       "      <td>113781</td>\n",
       "      <td>151.5500</td>\n",
       "      <td>S</td>\n",
       "    </tr>\n",
       "    <tr>\n",
       "      <th>2</th>\n",
       "      <td>1.0</td>\n",
       "      <td>0.0</td>\n",
       "      <td>Allison, Miss. Helen Loraine</td>\n",
       "      <td>female</td>\n",
       "      <td>2.0000</td>\n",
       "      <td>1.0</td>\n",
       "      <td>2.0</td>\n",
       "      <td>113781</td>\n",
       "      <td>151.5500</td>\n",
       "      <td>S</td>\n",
       "    </tr>\n",
       "    <tr>\n",
       "      <th>3</th>\n",
       "      <td>1.0</td>\n",
       "      <td>0.0</td>\n",
       "      <td>Allison, Mr. Hudson Joshua Creighton</td>\n",
       "      <td>male</td>\n",
       "      <td>30.0000</td>\n",
       "      <td>1.0</td>\n",
       "      <td>2.0</td>\n",
       "      <td>113781</td>\n",
       "      <td>151.5500</td>\n",
       "      <td>S</td>\n",
       "    </tr>\n",
       "    <tr>\n",
       "      <th>4</th>\n",
       "      <td>1.0</td>\n",
       "      <td>0.0</td>\n",
       "      <td>Allison, Mrs. Hudson J C (Bessie Waldo Daniels)</td>\n",
       "      <td>female</td>\n",
       "      <td>25.0000</td>\n",
       "      <td>1.0</td>\n",
       "      <td>2.0</td>\n",
       "      <td>113781</td>\n",
       "      <td>151.5500</td>\n",
       "      <td>S</td>\n",
       "    </tr>\n",
       "  </tbody>\n",
       "</table>\n",
       "</div>"
      ],
      "text/plain": [
       "   pclass  survived                                             name     sex  \\\n",
       "0     1.0       1.0                    Allen, Miss. Elisabeth Walton  female   \n",
       "1     1.0       1.0                   Allison, Master. Hudson Trevor    male   \n",
       "2     1.0       0.0                     Allison, Miss. Helen Loraine  female   \n",
       "3     1.0       0.0             Allison, Mr. Hudson Joshua Creighton    male   \n",
       "4     1.0       0.0  Allison, Mrs. Hudson J C (Bessie Waldo Daniels)  female   \n",
       "\n",
       "       age  sibsp  parch  ticket      fare embarked  \n",
       "0  29.0000    0.0    0.0   24160  211.3375        S  \n",
       "1   0.9167    1.0    2.0  113781  151.5500        S  \n",
       "2   2.0000    1.0    2.0  113781  151.5500        S  \n",
       "3  30.0000    1.0    2.0  113781  151.5500        S  \n",
       "4  25.0000    1.0    2.0  113781  151.5500        S  "
      ]
     },
     "execution_count": 565,
     "metadata": {},
     "output_type": "execute_result"
    }
   ],
   "source": [
    "#用中位数对年龄填补\n",
    "from sklearn.impute import SimpleImputer\n",
    "\n",
    "imp_median = SimpleImputer() #实例化\n",
    "imp_median = SimpleImputer(strategy=\"median\") #用中位数填补\n",
    "temp=np.array(df[\"age\"][:].to_list())\n",
    "#print(temp)\n",
    "temp = imp_median.fit_transform(temp.reshape(-1,1))\n",
    "df[\"age\"]=temp\n",
    "print('\"age\"特征缺失的百分比为%.2f%%' %((df['age'].isnull().sum()/df.shape[0])*100))\n",
    "\n",
    "#用众数对登船地点进行填补\n",
    "imp_most = SimpleImputer() #实例化\n",
    "imp_most = SimpleImputer(strategy = \"most_frequent\")\n",
    "temp=np.array(df[\"embarked\"][:].to_list(),dtype=object)\n",
    "temp=imp_most.fit_transform(temp.reshape(-1,1))\n",
    "df[\"embarked\"]=temp\n",
    "print('\"embarked\"特征缺失的百分比为%.2f%%' %((df['embarked'].isnull().sum()/df.shape[0])*100))\n",
    "\n",
    "#删除仓位数据\n",
    "df=df.drop(['cabin'],axis=1)\n",
    "df.head()"
   ]
  },
  {
   "cell_type": "markdown",
   "metadata": {},
   "source": [
    "##### 额外的变量"
   ]
  },
  {
   "cell_type": "markdown",
   "metadata": {},
   "source": [
    "先查看其它变量的数据缺失情况"
   ]
  },
  {
   "cell_type": "code",
   "execution_count": 566,
   "metadata": {},
   "outputs": [
    {
     "name": "stdout",
     "output_type": "stream",
     "text": [
      "pclass      1\n",
      "survived    1\n",
      "name        1\n",
      "sex         1\n",
      "age         0\n",
      "sibsp       1\n",
      "parch       1\n",
      "ticket      1\n",
      "fare        2\n",
      "embarked    0\n",
      "dtype: int64\n"
     ]
    }
   ],
   "source": [
    "print(df.isnull().sum())"
   ]
  },
  {
   "cell_type": "markdown",
   "metadata": {},
   "source": [
    "可见剩余变量缺失数量都非常少，因此缺失数据选择直接丢弃。\n",
    "\n",
    "另外要做的数据处理:\n",
    "\n",
    "+ 姓名（name）和船票编号（ticket）\n",
    "\n",
    "    与是否存活无关，删去\n",
    "\n",
    "+ 性别（sex）, 登船地点(embarked), 舱位(pclass),\n",
    "\n",
    "    多分类变量，应转化为哑变量。\n",
    "\n",
    "    一般的，n个分类需要设置n-1个哑变量，因此还要删除多余的哑变量。\n",
    " "
   ]
  },
  {
   "cell_type": "code",
   "execution_count": 567,
   "metadata": {},
   "outputs": [
    {
     "data": {
      "text/html": [
       "<div>\n",
       "<style scoped>\n",
       "    .dataframe tbody tr th:only-of-type {\n",
       "        vertical-align: middle;\n",
       "    }\n",
       "\n",
       "    .dataframe tbody tr th {\n",
       "        vertical-align: top;\n",
       "    }\n",
       "\n",
       "    .dataframe thead th {\n",
       "        text-align: right;\n",
       "    }\n",
       "</style>\n",
       "<table border=\"1\" class=\"dataframe\">\n",
       "  <thead>\n",
       "    <tr style=\"text-align: right;\">\n",
       "      <th></th>\n",
       "      <th>pclass</th>\n",
       "      <th>survived</th>\n",
       "      <th>sex</th>\n",
       "      <th>age</th>\n",
       "      <th>sibsp</th>\n",
       "      <th>parch</th>\n",
       "      <th>fare</th>\n",
       "      <th>embarked</th>\n",
       "      <th>sex_female</th>\n",
       "      <th>sex_male</th>\n",
       "      <th>embarked_C</th>\n",
       "      <th>embarked_Q</th>\n",
       "      <th>embarked_S</th>\n",
       "      <th>pclass_1.0</th>\n",
       "      <th>pclass_2.0</th>\n",
       "      <th>pclass_3.0</th>\n",
       "    </tr>\n",
       "  </thead>\n",
       "  <tbody>\n",
       "    <tr>\n",
       "      <th>0</th>\n",
       "      <td>1.0</td>\n",
       "      <td>1.0</td>\n",
       "      <td>female</td>\n",
       "      <td>29.0000</td>\n",
       "      <td>0.0</td>\n",
       "      <td>0.0</td>\n",
       "      <td>211.3375</td>\n",
       "      <td>S</td>\n",
       "      <td>1</td>\n",
       "      <td>0</td>\n",
       "      <td>0</td>\n",
       "      <td>0</td>\n",
       "      <td>1</td>\n",
       "      <td>1</td>\n",
       "      <td>0</td>\n",
       "      <td>0</td>\n",
       "    </tr>\n",
       "    <tr>\n",
       "      <th>1</th>\n",
       "      <td>1.0</td>\n",
       "      <td>1.0</td>\n",
       "      <td>male</td>\n",
       "      <td>0.9167</td>\n",
       "      <td>1.0</td>\n",
       "      <td>2.0</td>\n",
       "      <td>151.5500</td>\n",
       "      <td>S</td>\n",
       "      <td>0</td>\n",
       "      <td>1</td>\n",
       "      <td>0</td>\n",
       "      <td>0</td>\n",
       "      <td>1</td>\n",
       "      <td>1</td>\n",
       "      <td>0</td>\n",
       "      <td>0</td>\n",
       "    </tr>\n",
       "    <tr>\n",
       "      <th>2</th>\n",
       "      <td>1.0</td>\n",
       "      <td>0.0</td>\n",
       "      <td>female</td>\n",
       "      <td>2.0000</td>\n",
       "      <td>1.0</td>\n",
       "      <td>2.0</td>\n",
       "      <td>151.5500</td>\n",
       "      <td>S</td>\n",
       "      <td>1</td>\n",
       "      <td>0</td>\n",
       "      <td>0</td>\n",
       "      <td>0</td>\n",
       "      <td>1</td>\n",
       "      <td>1</td>\n",
       "      <td>0</td>\n",
       "      <td>0</td>\n",
       "    </tr>\n",
       "    <tr>\n",
       "      <th>3</th>\n",
       "      <td>1.0</td>\n",
       "      <td>0.0</td>\n",
       "      <td>male</td>\n",
       "      <td>30.0000</td>\n",
       "      <td>1.0</td>\n",
       "      <td>2.0</td>\n",
       "      <td>151.5500</td>\n",
       "      <td>S</td>\n",
       "      <td>0</td>\n",
       "      <td>1</td>\n",
       "      <td>0</td>\n",
       "      <td>0</td>\n",
       "      <td>1</td>\n",
       "      <td>1</td>\n",
       "      <td>0</td>\n",
       "      <td>0</td>\n",
       "    </tr>\n",
       "    <tr>\n",
       "      <th>4</th>\n",
       "      <td>1.0</td>\n",
       "      <td>0.0</td>\n",
       "      <td>female</td>\n",
       "      <td>25.0000</td>\n",
       "      <td>1.0</td>\n",
       "      <td>2.0</td>\n",
       "      <td>151.5500</td>\n",
       "      <td>S</td>\n",
       "      <td>1</td>\n",
       "      <td>0</td>\n",
       "      <td>0</td>\n",
       "      <td>0</td>\n",
       "      <td>1</td>\n",
       "      <td>1</td>\n",
       "      <td>0</td>\n",
       "      <td>0</td>\n",
       "    </tr>\n",
       "  </tbody>\n",
       "</table>\n",
       "</div>"
      ],
      "text/plain": [
       "   pclass  survived     sex      age  sibsp  parch      fare embarked  \\\n",
       "0     1.0       1.0  female  29.0000    0.0    0.0  211.3375        S   \n",
       "1     1.0       1.0    male   0.9167    1.0    2.0  151.5500        S   \n",
       "2     1.0       0.0  female   2.0000    1.0    2.0  151.5500        S   \n",
       "3     1.0       0.0    male  30.0000    1.0    2.0  151.5500        S   \n",
       "4     1.0       0.0  female  25.0000    1.0    2.0  151.5500        S   \n",
       "\n",
       "   sex_female  sex_male  embarked_C  embarked_Q  embarked_S  pclass_1.0  \\\n",
       "0           1         0           0           0           1           1   \n",
       "1           0         1           0           0           1           1   \n",
       "2           1         0           0           0           1           1   \n",
       "3           0         1           0           0           1           1   \n",
       "4           1         0           0           0           1           1   \n",
       "\n",
       "   pclass_2.0  pclass_3.0  \n",
       "0           0           0  \n",
       "1           0           0  \n",
       "2           0           0  \n",
       "3           0           0  \n",
       "4           0           0  "
      ]
     },
     "execution_count": 567,
     "metadata": {},
     "output_type": "execute_result"
    }
   ],
   "source": [
    "# 姓名和船票编号应该对结果没有影响，这两个特征直接删除\n",
    "df = df.drop([\"name\",\"ticket\"], axis=1)\n",
    "\n",
    "# 数据缺失的话，直接删除该样本\n",
    "df = df.dropna(axis=0,how='any')\n",
    "\n",
    "df.isnull().sum()\n",
    "\n",
    "# 把类别型变量转换为哑变量\n",
    "a = pd.get_dummies(df['sex'], prefix = \"sex\")\n",
    "b = pd.get_dummies(df['embarked'], prefix = \"embarked\")\n",
    "c = pd.get_dummies(df['pclass'], prefix = \"pclass\")\n",
    "# 把哑变量添加进dataframe\n",
    "temp = [df,a,b,c]\n",
    "df = pd.concat(temp, axis=1)\n",
    "#df = df.drop([\"sex\",\"embarked\",\"pclass\"], axis=1)\n",
    "df.head() # 显示新的dataframe\n"
   ]
  },
  {
   "cell_type": "markdown",
   "metadata": {},
   "source": [
    "##### 数据分析"
   ]
  },
  {
   "cell_type": "markdown",
   "metadata": {},
   "source": [
    "+ 年龄分布与是否生还的关系"
   ]
  },
  {
   "cell_type": "code",
   "execution_count": 568,
   "metadata": {},
   "outputs": [
    {
     "data": {
      "image/png": "[encoded data removed]",
      "text/plain": [
       "<Figure size 1000x500 with 1 Axes>"
      ]
     },
     "metadata": {},
     "output_type": "display_data"
    }
   ],
   "source": [
    "plt.figure(figsize=(10,5))\n",
    "ax = sns.kdeplot(df[\"age\"][df.survived == 1], color=\"cadetblue\", fill=True)\n",
    "sns.kdeplot(df[\"age\"][df.survived == 0], color=\"lightcoral\", fill=True)\n",
    "plt.legend(['Survived', 'Died'])\n",
    "plt.title('Density Plot of Age for Surviving Population and Deceased Population')\n",
    "ax.set(xlabel='Age')\n",
    "plt.xlim(-10,85)\n",
    "plt.show()"
   ]
  },
  {
   "cell_type": "markdown",
   "metadata": {},
   "source": [
    "可见青年在遇难者中的比例大于在生还者中的比例，而儿童在遇难者中的比例小于在生还者中的比例。"
   ]
  },
  {
   "cell_type": "markdown",
   "metadata": {},
   "source": [
    "+ 仓位分布与是否生还的关系\n"
   ]
  },
  {
   "cell_type": "code",
   "execution_count": 569,
   "metadata": {},
   "outputs": [
    {
     "data": {
      "image/png": "[encoded data removed]",
      "text/plain": [
       "<Figure size 640x480 with 1 Axes>"
      ]
     },
     "metadata": {},
     "output_type": "display_data"
    }
   ],
   "source": [
    "sns.barplot(x='pclass',y='survived',data=df,color=\"cadetblue\",alpha=0.8)\n",
    "plt.show()"
   ]
  },
  {
   "cell_type": "markdown",
   "metadata": {},
   "source": [
    "可见一等舱的生还比例大于二等舱，二等舱又大于三等舱"
   ]
  },
  {
   "cell_type": "markdown",
   "metadata": {},
   "source": [
    "+ 登船地点与生还比例的关系"
   ]
  },
  {
   "cell_type": "code",
   "execution_count": 570,
   "metadata": {},
   "outputs": [
    {
     "data": {
      "image/png": "[encoded data removed]",
      "text/plain": [
       "<Figure size 640x480 with 1 Axes>"
      ]
     },
     "metadata": {},
     "output_type": "display_data"
    }
   ],
   "source": [
    "sns.barplot(x='embarked',y='survived',data=df,color=\"cadetblue\",alpha=0.8)\n",
    "plt.show()\n"
   ]
  },
  {
   "cell_type": "markdown",
   "metadata": {},
   "source": [
    "可见从法国瑟堡Cherbourge登船的乘客生还率更高。"
   ]
  },
  {
   "cell_type": "markdown",
   "metadata": {},
   "source": [
    "##### 逻辑回归"
   ]
  },
  {
   "cell_type": "markdown",
   "metadata": {},
   "source": [
    "+ 模型建立"
   ]
  },
  {
   "cell_type": "code",
   "execution_count": 571,
   "metadata": {},
   "outputs": [],
   "source": [
    "from sklearn.linear_model import LogisticRegression\n",
    "from sklearn.model_selection import train_test_split\n",
    "from sklearn.metrics import accuracy_score\n",
    "\n",
    "# 把类别变量删除只留下哑变量\n",
    "df = df.drop([\"sex\",\"embarked\",\"pclass\"], axis=1)\n",
    "\n",
    "# 创建X（特征）和y（类别标签）\n",
    "# 注意n个变量只取n-1个哑变量即可\n",
    "X = df[[\"age\", \"fare\",\"sibsp\",\"parch\",\"embarked_C\",\"embarked_Q\", \"sex_male\", \"pclass_1.0\",\"pclass_2.0\"]]\n",
    "y = df['survived']\n",
    "\n",
    "X_train, X_test, y_train, y_test = train_test_split(X, y, test_size=0.2, random_state=2023)\n",
    "\n"
   ]
  },
  {
   "cell_type": "markdown",
   "metadata": {},
   "source": [
    "+ 模型评估"
   ]
  },
  {
   "cell_type": "code",
   "execution_count": 572,
   "metadata": {},
   "outputs": [
    {
     "name": "stdout",
     "output_type": "stream",
     "text": [
      "准确率为0.817\n"
     ]
    }
   ],
   "source": [
    "lr = LogisticRegression(solver='liblinear')\n",
    "lr.fit(X_train, y_train)\n",
    "y_pred = lr.predict(X_test)\n",
    "print(\"准确率为%2.3f\" % accuracy_score(y_test, y_pred))"
   ]
  }
 ],
 "metadata": {
  "kernelspec": {
   "display_name": "d2l",
   "language": "python",
   "name": "python3"
  },
  "language_info": {
   "codemirror_mode": {
    "name": "ipython",
    "version": 3
   },
   "file_extension": ".py",
   "mimetype": "text/x-python",
   "name": "python",
   "nbconvert_exporter": "python",
   "pygments_lexer": "ipython3",
   "version": "3.9.16"
  },
  "orig_nbformat": 4
 },
 "nbformat": 4,
 "nbformat_minor": 2
}
