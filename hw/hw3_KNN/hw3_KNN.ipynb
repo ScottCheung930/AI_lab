{
 "cells": [
  {
   "attachments": {},
   "cell_type": "markdown",
   "metadata": {},
   "source": [
    "张峪齐 3200105176"
   ]
  },
  {
   "attachments": {},
   "cell_type": "markdown",
   "metadata": {},
   "source": [
    "### 第一题\n",
    "\n",
    "sklearn的KNN函数实现鸢尾花分类"
   ]
  },
  {
   "attachments": {},
   "cell_type": "markdown",
   "metadata": {},
   "source": [
    "使用sklearn的鸢尾花数据集，该数据集包含Iris花的三个品种(Iris setosa, Iris virginica and Iris versicolor)各50个样本，\n",
    "\n",
    "每个样本还有4个特征参数（分别是萼片的长宽和花瓣的长宽，以厘米为单位）\n",
    "\n",
    "sepal length (cm), sepal width (cm), petal length (cm), petal width (cm)\n",
    "\n",
    "（1）算法的实现过程：\n",
    "\n",
    "（2）数据收集/加载\n",
    "\n",
    "（3）数据预处理\n",
    "\n",
    "（4）数据划分\n",
    "\n",
    "（5）模型建立\n",
    "\n",
    "（6）交叉验证\n",
    "\n",
    "（7）模型验证与评估\n",
    "\n",
    "```\n",
    "from sklearn import datasets\n",
    "from sklearn.model_selection import train_test_split\n",
    "from sklearn.neighbors import KNeighborsClassifier\n",
    "import numpy as np\n",
    "iris = datasets.load_iris()\n",
    "X = iris.data\n",
    "y = iris.target\n",
    "print (X, y)\n",
    "## 画一下数据的分布（前两个维度）\n",
    "code here\n",
    "## # 把数据分成训练数据和测试数据\n",
    "code here\n",
    "## # 构建KNN模型， K值为3、并做训练\n",
    "code here\n",
    "#计算准确率\n",
    "code here\n",
    "```"
   ]
  },
  {
   "attachments": {},
   "cell_type": "markdown",
   "metadata": {},
   "source": [
    "#### 数据加载"
   ]
  },
  {
   "cell_type": "code",
   "execution_count": 1,
   "metadata": {},
   "outputs": [
    {
     "data": {
      "image/png": "[encoded data removed]",
      "text/plain": [
       "<Figure size 640x480 with 1 Axes>"
      ]
     },
     "metadata": {},
     "output_type": "display_data"
    }
   ],
   "source": [
    "from sklearn import datasets\n",
    "from sklearn.model_selection import train_test_split\n",
    "from sklearn.neighbors import KNeighborsClassifier\n",
    "import numpy as np\n",
    "#加载数据库\n",
    "iris = datasets.load_iris() \n",
    "X = iris.data\n",
    "y = iris.target\n",
    "#print (X, y)\n",
    "\n",
    "#画出前两个维度的数据分布\n",
    "from matplotlib import pyplot as plt\n",
    "plt.figure()\n",
    "plt.title(\"Data Distribution\")\n",
    "plt.xlabel('sepal length(cm)')\n",
    "plt.ylabel('sepal width(cm)')\n",
    "for i in range(1,X.shape[0]):\n",
    "    t=plt.plot(X[i,0],X[i,1],'.',color=\"green\" if y[i]==0 else (\"blue\" if y[i]==1 else \"red\"))\n",
    "    if y[i]==0:\n",
    "        plt0,=t\n",
    "    elif y[i]==1:\n",
    "        plt1,=t\n",
    "    else:\n",
    "        plt2,=t\n",
    "plt.axis([3,9,1,6])\n",
    "plt.legend([plt0,plt1,plt2],[\"Iris setosa\", \"Iris virginica\", \"Iris versicolor\"],loc=\"upper left\")\n",
    "plt.grid(True)\n",
    "plt.gca().set_aspect('equal', adjustable='box')\n",
    "plt.show()"
   ]
  },
  {
   "attachments": {},
   "cell_type": "markdown",
   "metadata": {},
   "source": [
    "#### 数据预处理"
   ]
  },
  {
   "cell_type": "code",
   "execution_count": 2,
   "metadata": {},
   "outputs": [],
   "source": [
    "#进行标准归一化\n",
    "for i in range(0,4):\n",
    "    mean=X[:,i].mean()\n",
    "    sigma=np.sqrt(np.var(X[:,i],ddof=1))\n",
    "    for j in range(0,len(X[:,i])):\n",
    "        X[j,i]=(X[j,i]-mean)/sigma"
   ]
  },
  {
   "attachments": {},
   "cell_type": "markdown",
   "metadata": {},
   "source": [
    "也可以使用sklearn的StandardScaler进行标准归一化\n",
    "\n",
    "```\n",
    "from sklearn.preprocessing import StandardScaler\n",
    "ss = StandardScaler()\n",
    "X = ss.fit_transform(X)\n",
    "```"
   ]
  },
  {
   "attachments": {},
   "cell_type": "markdown",
   "metadata": {},
   "source": [
    "#### 数据划分"
   ]
  },
  {
   "cell_type": "code",
   "execution_count": 3,
   "metadata": {},
   "outputs": [],
   "source": [
    "\n",
    "#把数据分为训练数据和测试数据\n",
    "#将每种鸢尾花的前25个用于训练数据，后25个用于测试数据\n",
    "#即测试集和训练集各50%\n",
    "X_train0,X_test0,y_train0,y_test0=train_test_split(X[:50,:],y[:50],test_size=0.5,random_state=42)\n",
    "X_train1,X_test1,y_train1,y_test1=train_test_split(X[50:100,:],y[50:100],test_size=0.5,random_state=42)\n",
    "X_train2,X_test2,y_train2,y_test2=train_test_split(X[100:150,:],y[100:150],test_size=0.5,random_state=42)\n",
    "X_train,X_test,y_train,y_test=np.concatenate((X_train0,X_train1,X_train2),axis=0),np.concatenate((X_test0,X_test1,X_test2),axis=0),np.concatenate((y_train0,y_train1,y_train2),axis=0),np.concatenate((y_test0,y_test1,y_test2),axis=0)"
   ]
  },
  {
   "attachments": {},
   "cell_type": "markdown",
   "metadata": {},
   "source": [
    "#### 利用sklearn实现KNN"
   ]
  },
  {
   "cell_type": "code",
   "execution_count": 4,
   "metadata": {},
   "outputs": [
    {
     "name": "stdout",
     "output_type": "stream",
     "text": [
      "y_test:\n",
      "[0 0 0 0 0 0 0 0 0 0 0 0 0 0 0 0 0 0 0 0 0 0 0 0 0 1 1 1 1 1 1 1 1 1 1 1 1\n",
      " 1 1 1 1 1 1 1 1 1 1 1 1 1 2 2 2 2 2 2 2 2 2 2 2 2 2 2 2 2 2 2 2 2 2 2 2 2\n",
      " 2]\n",
      "y_predict:\n",
      "[0 0 0 0 0 0 0 0 0 0 0 0 0 0 0 0 1 0 0 0 0 0 0 0 0 1 1 1 1 1 1 1 1 1 1 1 2\n",
      " 1 1 1 1 1 1 1 1 1 1 1 1 1 2 2 2 2 2 2 2 2 2 1 2 2 2 2 2 1 2 2 2 2 2 2 2 1\n",
      " 2]\n",
      "ErrorRate=6.667%\n",
      "Confusion Matrix:\n",
      "                 Iris setosa  Iris virginica  Iris versicolor\n",
      "Iris setosa               24               0                0\n",
      "Iris virginica             1              24                3\n",
      "Iris versicolor            0               1               22\n"
     ]
    }
   ],
   "source": [
    "#构建KNN模型，K=3，并做训练\n",
    "def knn_by_sklearn(k):\n",
    "    neigh=KNeighborsClassifier(n_neighbors=3)\n",
    "    neigh.fit(X_train,y_train)\n",
    "    y_predict=neigh.predict(X_test)\n",
    "\n",
    "    print(f\"y_test:\\n{y_test}\")\n",
    "    print(f\"y_predict:\\n{y_predict}\")\n",
    "\n",
    "    return y_predict\n",
    "\n",
    "y_predict=knn_by_sklearn(3)\n",
    "#计算准确率和混淆矩阵\n",
    "error=0\n",
    "matrix=np.zeros((3,3),dtype=int)\n",
    "for i in range(0,len(y_predict)):\n",
    "    matrix[y_predict[i]][y_test[i]]+=1\n",
    "    if y_predict[i]!=y_test[i]:\n",
    "        error=error+1\n",
    "import pandas as pd\n",
    "confusionMatrix=pd.DataFrame(matrix,columns=[\"Iris setosa\", \"Iris virginica\", \"Iris versicolor\"],index=[\"Iris setosa\", \"Iris virginica\", \"Iris versicolor\"])\n",
    "\n",
    "\n",
    "print(f\"ErrorRate={round(error/len(y_predict)*100,3)}%\")\n",
    "print(\"Confusion Matrix:\")\n",
    "print(confusionMatrix)"
   ]
  },
  {
   "attachments": {},
   "cell_type": "markdown",
   "metadata": {},
   "source": [
    "### 第二题"
   ]
  },
  {
   "attachments": {},
   "cell_type": "markdown",
   "metadata": {},
   "source": [
    "#### 从零开始实现KNN"
   ]
  },
  {
   "cell_type": "code",
   "execution_count": 5,
   "metadata": {},
   "outputs": [
    {
     "name": "stdout",
     "output_type": "stream",
     "text": [
      "y_test=\n",
      "[1 0 1 1 1 1 1 1 1 1 0 0 0 1 2 0 2 2 1 0 1 2 1 1 0 1 1 2 1 2 0 0 1 1 0 1 2\n",
      " 0]\n",
      "y_predict=\n",
      "[1 0 1 2 1 1 1 1 1 1 0 0 0 1 2 0 2 2 2 0 1 2 1 1 0 1 2 2 1 2 0 0 1 1 0 1 2\n",
      " 0]\n",
      "ErrorRate=7.895%\n",
      "Confusion Matrix:\n",
      "                 Iris setosa  Iris virginica  Iris versicolor\n",
      "Iris setosa               11               0                0\n",
      "Iris virginica             0              17                0\n",
      "Iris versicolor            0               3                7\n"
     ]
    }
   ],
   "source": [
    "from sklearn import datasets\n",
    "from collections import Counter # 为了找出k个最近邻居中最多的标签\n",
    "from sklearn.model_selection import train_test_split\n",
    "import numpy as np\n",
    "\n",
    "# 导入iris数据\n",
    "# 此处为伪随机选取数据集的25%作为测试数据，75%作为训练数据\n",
    "# (如果此处改用之前的数据导入方法，结果将和sklearn的KNN模型一样)\n",
    "iris = datasets.load_iris()\n",
    "X = iris.data\n",
    "y = iris.target\n",
    "X_train, X_test, y_train, y_test = train_test_split(X, y, random_state=2003)\n",
    "\n",
    "def euc_dis(instance1, instance2):\n",
    "    \"\"\"\n",
    "    计算两个样本instance1和instance2之间的欧式距离\n",
    "    instance1: 第一个样本， array型\n",
    "    instance2: 第二个样本， array型\n",
    "    \"\"\"\n",
    "    dist = np.linalg.norm(instance1-instance2)\n",
    "    return dist\n",
    "\n",
    "def knn_classify(X, y, testInstance, k):\n",
    "    \"\"\"\n",
    "    给定一个测试数据testInstance, 通过KNN算法来预测它的标签。\n",
    "    X: 训练数据的特征\n",
    "    y: 训练数据的标签\n",
    "    testInstance: 测试数据，这里假定一个测试数据array型\n",
    "    k: 选择多少个neighbors?\n",
    "    \"\"\"\n",
    "    #返回testInstance的预测标签= {0,1,2}\n",
    "    dist_list=[]\n",
    "    for i in range(0,X.shape[0]):\n",
    "        dist_list.append(euc_dis(X[i,:],testInstance))\n",
    "    sort_index=np.array(dist_list).argsort()[:k]\n",
    "    counter=Counter(y[sort_index])\n",
    "    result=counter.most_common(1)[0][0]\n",
    "    # print(result)\n",
    "    return result\n",
    "\n",
    "# 预测结果\n",
    "y_predict=[]\n",
    "for i in range(0,X_test.shape[0]):\n",
    "    y_predict.append(knn_classify(X_train,y_train,X_test[i,:],3))\n",
    "y_predict=np.array(y_predict)\n",
    "\n",
    "#计算准确率和混淆矩阵\n",
    "error=0\n",
    "matrix=np.zeros((3,3),dtype=int)\n",
    "for i in range(0,len(y_predict)):\n",
    "    matrix[y_predict[i]][y_test[i]]+=1\n",
    "    if y_predict[i]!=y_test[i]:\n",
    "        error=error+1\n",
    "import pandas as pd\n",
    "confusionMatrix=pd.DataFrame(matrix,columns=[\"Iris setosa\", \"Iris virginica\", \"Iris versicolor\"],index=[\"Iris setosa\", \"Iris virginica\", \"Iris versicolor\"])\n",
    "\n",
    "print(f\"y_test=\\n{y_test}\")\n",
    "print(f\"y_predict=\\n{y_predict}\")\n",
    "print(f\"ErrorRate={round(error/len(y_predict)*100,3)}%\")\n",
    "print(\"Confusion Matrix:\")\n",
    "print(confusionMatrix)"
   ]
  }
 ],
 "metadata": {
  "kernelspec": {
   "display_name": "d2l",
   "language": "python",
   "name": "python3"
  },
  "language_info": {
   "codemirror_mode": {
    "name": "ipython",
    "version": 3
   },
   "file_extension": ".py",
   "mimetype": "text/x-python",
   "name": "python",
   "nbconvert_exporter": "python",
   "pygments_lexer": "ipython3",
   "version": "3.9.16"
  },
  "orig_nbformat": 4
 },
 "nbformat": 4,
 "nbformat_minor": 2
}
