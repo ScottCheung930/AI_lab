{
 "cells": [
  {
   "cell_type": "markdown",
   "metadata": {},
   "source": [
    "张峪齐 3200105176"
   ]
  },
  {
   "cell_type": "markdown",
   "metadata": {},
   "source": [
    "### 第一题"
   ]
  },
  {
   "cell_type": "markdown",
   "metadata": {},
   "source": [
    "#### 题目\n",
    "\n",
    "利用PCA 进行面部识别"
   ]
  },
  {
   "cell_type": "markdown",
   "metadata": {},
   "source": [
    "第一步：从https://pan.zju.edu.cn/share/4f8a7baa9837d15018d462e9a4 下载数据。\n",
    "\n",
    "第二步：加载数据\n",
    "\n",
    "第三步：降维\n",
    "\n",
    "第四步：建立分类模型\n",
    "\n",
    "第五步：性能度量（比较降维前后性能的差异）"
   ]
  },
  {
   "cell_type": "markdown",
   "metadata": {},
   "source": [
    "#### 解答"
   ]
  },
  {
   "cell_type": "markdown",
   "metadata": {},
   "source": [
    "##### 加载数据"
   ]
  },
  {
   "cell_type": "code",
   "execution_count": 2,
   "metadata": {},
   "outputs": [
    {
     "name": "stdout",
     "output_type": "stream",
     "text": [
      "dataSet.shape=(400, 10304)\n"
     ]
    }
   ],
   "source": [
    "import cv2\n",
    "import numpy as np\n",
    "def loadData(path):\n",
    "    '''\n",
    "    该函数传入数据集文件夹路径，返回数据集\n",
    "    返回的数据集为一个numpy矩阵，其中每一行是一个图像的数据\n",
    "    '''\n",
    "    dataSet=np.array([])\n",
    "    dataset=[]\n",
    "    for i in range(1,41):\n",
    "        path0=path+'/s'+str(i)\n",
    "        for j in range(1,11):\n",
    "            path_bmp=path0+'/'+str(j)+'.bmp'\n",
    "            #dataSet[(i-1)*10+j,:]=cv2.imread(path_bmp,0).reshape(1,-1)\n",
    "            dataset.append(cv2.imread(path_bmp,0).flatten())\n",
    "            dataSet=np.mat(np.array(dataset,dtype=\"uint8\"))\n",
    "            #print(img.shape)  #所有图片的shape都是(112,92)        \n",
    "    print(f\"dataSet.shape={dataSet.shape}\")\n",
    "    return dataSet\n",
    "\n",
    "dataSet=loadData('./orl')"
   ]
  },
  {
   "cell_type": "markdown",
   "metadata": {},
   "source": [
    "##### 降维"
   ]
  },
  {
   "cell_type": "code",
   "execution_count": 3,
   "metadata": {},
   "outputs": [],
   "source": [
    "def pca(dataMat, topNfeat=9999999):\n",
    "    '''\n",
    "    参数：数据集矩阵，取主要特征的数量\n",
    "    返回：以主成分表示的数据集矩阵\n",
    "    '''\n",
    "    meanVals = np.mean(dataMat, axis=0)\n",
    "    meanRemoved = dataMat - meanVals #标准化\n",
    "\n",
    "    covMat = np.cov(meanRemoved, rowvar=0)#计算协方差矩阵\n",
    "    eigVals,eigVects = np.linalg.eig(np.mat(covMat))\n",
    "    print(eigVals.shape)\n",
    "    print(eigVals)\n",
    "    eigValInd = np.argsort(eigVals) #sort, sort goes smallest to largest\n",
    "    eigValInd = eigValInd[:-(topNfeat+1):-1] #cut off unwanted dimensions\n",
    "    redEigVects = eigVects[:,eigValInd] #reorganize eig vects largest to smallest\n",
    "    lowDDataMat = meanRemoved * redEigVects#transform data into new dimensions\n",
    "    reconMat = (lowDDataMat * redEigVects.T) + meanVals\n",
    "    return lowDDataMat, reconMat\n",
    "    \n",
    "# 先对数据归一化\n",
    "lowDdataSet,dataSet=pca(dataSet, 100)"
   ]
  }
 ],
 "metadata": {
  "kernelspec": {
   "display_name": "d2l",
   "language": "python",
   "name": "python3"
  },
  "language_info": {
   "codemirror_mode": {
    "name": "ipython",
    "version": 3
   },
   "file_extension": ".py",
   "mimetype": "text/x-python",
   "name": "python",
   "nbconvert_exporter": "python",
   "pygments_lexer": "ipython3",
   "version": "3.9.16"
  },
  "orig_nbformat": 4
 },
 "nbformat": 4,
 "nbformat_minor": 2
}
