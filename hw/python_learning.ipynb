{
 "cells": [
  {
   "attachments": {},
   "cell_type": "markdown",
   "metadata": {},
   "source": [
    "##### test Python"
   ]
  },
  {
   "cell_type": "code",
   "execution_count": 1,
   "metadata": {},
   "outputs": [
    {
     "name": "stdout",
     "output_type": "stream",
     "text": [
      "hello world\n"
     ]
    }
   ],
   "source": [
    "print(\"hello world\")"
   ]
  },
  {
   "attachments": {},
   "cell_type": "markdown",
   "metadata": {},
   "source": [
    "##### test Pytorch"
   ]
  },
  {
   "cell_type": "code",
   "execution_count": 19,
   "metadata": {},
   "outputs": [
    {
     "data": {
      "text/plain": [
       "True"
      ]
     },
     "execution_count": 19,
     "metadata": {},
     "output_type": "execute_result"
    }
   ],
   "source": [
    "import torch\n",
    "torch.cuda.is_available()"
   ]
  },
  {
   "attachments": {},
   "cell_type": "markdown",
   "metadata": {},
   "source": [
    "（详细安装过程见../dive_into_deeplearning/Installation.md）"
   ]
  },
  {
   "attachments": {},
   "cell_type": "markdown",
   "metadata": {},
   "source": [
    "### Python基础学习"
   ]
  },
  {
   "attachments": {},
   "cell_type": "markdown",
   "metadata": {},
   "source": [
    "#### 变量和简单数据类型\n",
    "变量不用声明类型；\n",
    "\n",
    "注释使用井号#，多行注释使用三连引号\"\"\"\n",
    "\n",
    "普通变量应该小写，全大写的变量意味着常量（约定俗成）；\n",
    "\n",
    "字符串可以用单引号或者双引号（没有字符类型只有字符串类型）；\n",
    "\n",
    "转义字符规定和C语言相同；\n",
    "\n",
    "##### 字符串类型的方法和函数\n",
    "+ title方法：以空格划分单词，单词首字母大写\n",
    "+ upper方法：所有字母大写\n",
    "+ lower方法：所有字母小写\n",
    "+ f字符串（在python3.6之前是format方法）：在字符串中使用{}以允许变量替换或者内联的函数结果。\n",
    "+ rstrip方法：删除字符串末尾空白（空格或制表符）\n",
    "+ lstrip方法：删除字符串开头空白（空格或制表符）\n",
    "+ strip方法：删除字符串头尾空白\n",
    "\n",
    "##### 整数和浮点数\n",
    "除了除法外，整数运算结果为整数；\n",
    "\n",
    "所有的除法，结果是浮点数（即使能整除）；\n",
    "\n",
    "操作数有浮点数，结果是浮点数；"
   ]
  },
  {
   "cell_type": "code",
   "execution_count": 8,
   "metadata": {},
   "outputs": [
    {
     "name": "stdout",
     "output_type": "stream",
     "text": [
      "harry potter\n",
      "Harry Potter\n",
      "HARRY POTTER\n",
      "harry potter\n",
      "Harry Potter\n"
     ]
    }
   ],
   "source": [
    "firstname=\"harry\"\n",
    "lastname=\"potter\"\n",
    "name=firstname+' '+lastname\n",
    "print(name)\n",
    "print(name.title())\n",
    "print(name.upper())\n",
    "print(name.upper().lower())\n",
    "print(f\"{firstname.title()} {lastname.title()}\")"
   ]
  },
  {
   "attachments": {},
   "cell_type": "markdown",
   "metadata": {},
   "source": [
    "#### 列表和元组\n",
    "方括号表示列表，元素用逗号分隔；\n",
    "\n",
    "列表元素可以是不同的数据类型；\n",
    "\n",
    "使用方括号索引，索引从0开始；\n",
    "\n",
    "索引-1表示最后一个列表元素；\n",
    "\n",
    "列表可以为空\n",
    "\n",
    "##### 列表类型的方法和函数\n",
    "+ append方法：在元素末尾增加元素（常用初始化方法：空列表+多次append）\n",
    "+ insert方法：在指定位置插入元素\n",
    "+ del语句：根据索引删除列表中的元素\n",
    "+ pop()方法：默认获取列表末尾元素，再删除列表末尾元素\n",
    "+ pop(i)方法：根据索引获取列表中元素，再从列表中删除\n",
    "+ remove(\"{value}\")：根据值删除列表中元素（仅删除匹配到的第一个元素）\n",
    "+ sorted()函数：输入列表，输出有序列表，原列表未被该改变。\n",
    "+ sort方法：对列表排序（字符串按字典序，数按从小到大），列表被改变了。\n",
    "+ sort(reverse=True)：对列表反向排序\n",
    "+ reverse方法：使列表倒序，列表被改变了\n",
    "+ len()函数：获取列表长度"
   ]
  },
  {
   "cell_type": "code",
   "execution_count": 9,
   "metadata": {},
   "outputs": [
    {
     "name": "stdout",
     "output_type": "stream",
     "text": [
      "['c']\n",
      "['a', 'b', 'c']\n",
      "['a', 'c']\n",
      "char=c\n",
      "[]\n",
      "['a', 'ac', 'ad', 'b', 'c', 'd']\n",
      "['d', 'c', 'b', 'ad', 'ac', 'a']\n",
      "['a', 'ac', 'ad', 'b', 'c', 'd']\n",
      "6\n"
     ]
    }
   ],
   "source": [
    "list1=[]\n",
    "list1.append(\"c\")\n",
    "print(list1)\n",
    "list1.insert(0,'b');\n",
    "list1.insert(0,'a')\n",
    "print(list1)\n",
    "del list1[1]\n",
    "print(list1)\n",
    "char=list1.pop()\n",
    "print(f\"char={char}\")\n",
    "list1.remove(\"a\")\n",
    "print(list1)\n",
    "list1=[\"a\",\"c\",\"d\",\"b\",\"ac\",\"ad\"]\n",
    "print(sorted(list1));\n",
    "list1.sort(reverse=True)\n",
    "print(list1)\n",
    "list1.reverse()\n",
    "print(list1)\n",
    "\n",
    "print(len(list1))"
   ]
  },
  {
   "attachments": {},
   "cell_type": "markdown",
   "metadata": {},
   "source": [
    "##### 列表的遍历\n",
    "\n",
    "for 循环\n",
    "\n",
    "##### 列表的生成\n",
    "+ range(i,j)生成i,i+1,...,j-1的列表\n",
    "\n",
    "##### 数字列表简单统计\n",
    "+ min函数\n",
    "+ max函数\n",
    "+ sum函数\n",
    "\n",
    "##### 列表切片\n",
    "\n",
    "list1[1:3]表示列表索引1到索引2（不包括索引为3）\n",
    "\n",
    "list1[1:]表示从列表索引1到末尾\n",
    "\n",
    "list1[:]表示全部\n",
    "\n",
    "list1[:3]表示从索引0到索引2\n",
    "\n",
    "##### 复制列表\n",
    "\n",
    "使用list[:]\n",
    "\n",
    "因为list1=list2的效果类似于指针赋值，并没有新建变量的内存空间\n",
    "\n",
    "list1=list2[:]才是复制"
   ]
  },
  {
   "cell_type": "code",
   "execution_count": 18,
   "metadata": {},
   "outputs": [
    {
     "name": "stdout",
     "output_type": "stream",
     "text": [
      "[1, 2]\n",
      "[1, 2, 3, 4, 5]\n",
      "[0, 1, 2]\n",
      "[0, 1, 2, 3, 4]\n",
      "[0, 1, 2, 3, 4, 5]\n"
     ]
    }
   ],
   "source": [
    "list2=[0,1,2,3,4,5]\n",
    "print(list2[1:3])\n",
    "print(list2[1:])\n",
    "print(list2[:3])\n",
    "list3=list2\n",
    "list4=list2[:] #注意此处的区别！！\n",
    "list2.pop()\n",
    "print(list3)\n",
    "print(list4)\n",
    "\n",
    "\n",
    "\n"
   ]
  },
  {
   "attachments": {},
   "cell_type": "markdown",
   "metadata": {},
   "source": [
    "##### 元组\n",
    "\n",
    "元组是不可修改的列表。\n",
    "\n",
    "元组使用圆括号，\n",
    "\n",
    "元组的索引使用方括号\n"
   ]
  },
  {
   "cell_type": "code",
   "execution_count": 11,
   "metadata": {},
   "outputs": [
    {
     "name": "stdout",
     "output_type": "stream",
     "text": [
      "2\n"
     ]
    },
    {
     "ename": "TypeError",
     "evalue": "'tuple' object does not support item assignment",
     "output_type": "error",
     "traceback": [
      "\u001b[1;31m---------------------------------------------------------------------------\u001b[0m",
      "\u001b[1;31mTypeError\u001b[0m                                 Traceback (most recent call last)",
      "Cell \u001b[1;32mIn[11], line 3\u001b[0m\n\u001b[0;32m      1\u001b[0m tuple1\u001b[39m=\u001b[39m(\u001b[39m1\u001b[39m,\u001b[39m2\u001b[39m,\u001b[39m3\u001b[39m,\u001b[39m4\u001b[39m)\n\u001b[0;32m      2\u001b[0m \u001b[39mprint\u001b[39m(tuple1[\u001b[39m1\u001b[39m])\n\u001b[1;32m----> 3\u001b[0m tuple1[\u001b[39m1\u001b[39;49m]\u001b[39m=\u001b[39m\u001b[39m5\u001b[39m\n",
      "\u001b[1;31mTypeError\u001b[0m: 'tuple' object does not support item assignment"
     ]
    }
   ],
   "source": [
    "tuple1=(1,2,3,4)\n",
    "print(tuple1[1])\n",
    "tuple1[1]=5"
   ]
  },
  {
   "attachments": {},
   "cell_type": "markdown",
   "metadata": {},
   "source": [
    "#### 字典\n",
    "\n",
    "字典是一系列键值对，每个键值对用逗号隔开；\n",
    "\n",
    "键值对的键和值都是灵活类型；\n",
    "\n",
    "键值对的索引方法是使用方括号+key索引；\n",
    "\n",
    "添加键值对：直接赋值；\n",
    "\n",
    "字典可以为空；\n",
    "\n",
    "可以用del语句删除键值对；\n",
    "\n",
    "使用get([key],[ErrorMsg])来获取值可以避免访问不存在的键；\n",
    "\n",
    "##### 遍历字典\n",
    "+ 遍历键值对\n",
    "\n",
    "    for key,value in dict.items():\n",
    "\n",
    "    其中，items方法生成一个键值对列表\n",
    "\n",
    "+ 遍历所有键\n",
    "\n",
    "    for key in dict.keys():\n",
    "\n",
    "+ 遍历所有值\n",
    "\n",
    "    for value in dict.values():\n",
    "\n",
    "    如果希望滤除所有重复值，使用set()函数\n",
    "    \n",
    "    for value in set(dict.values()):\n",
    "\n",
    "##### 字典列表, 字典中的列表，字典中的字典\n"
   ]
  },
  {
   "cell_type": "code",
   "execution_count": null,
   "metadata": {},
   "outputs": [],
   "source": [
    "user_0 = {\n",
    "'username': 'efermi',\n",
    "'first': 'enrico',\n",
    "'last': 'fermi',\n",
    "}\n",
    "for key, value in user_0.items():\n",
    "    print(f\"\\nKey: {key}\")\n",
    "    print(f\"Value: {value}\")"
   ]
  },
  {
   "cell_type": "code",
   "execution_count": null,
   "metadata": {},
   "outputs": [],
   "source": [
    "favorite_languages = {\n",
    "'jen': 'python',\n",
    "'sarah': 'c',\n",
    "'edward': 'ruby',\n",
    "'phil': 'python',\n",
    "}\n",
    "for name in favorite_languages.keys():\n",
    "    print(name.title())"
   ]
  },
  {
   "attachments": {},
   "cell_type": "markdown",
   "metadata": {},
   "source": [
    "#### 函数\n",
    "\n",
    "格式：\n",
    "\n",
    "```\n",
    "def func(arg1,arg2):\n",
    "    '''参数描述'''\n",
    "    ......\n",
    "func(a,b)\n",
    "\n",
    "```\n",
    "\n",
    "##### 传参与参数设置\n",
    "+ 参数默认值：在定义时的形参列表中设置\n",
    "    \n",
    "    ```def func(a,b=0):```\n",
    "\n",
    "+ 位置实参：按照位置对应关系传参\n",
    "+ 关键字实参：实参为一个语句\n",
    "    \n",
    "    ```func(b=1,a=2)```\n",
    "\n"
   ]
  },
  {
   "attachments": {},
   "cell_type": "markdown",
   "metadata": {},
   "source": [
    "##### 可选参数：有默认值的参数即为可选参数。\n",
    "常设为=''（为空）或者=None(没有值)。注意条件测试中，None相当于False\n",
    "\n",
    "```\n",
    "def func(a,b,c=''):\n",
    "    ......\n",
    "func(1,2)\n",
    "func(1,2,3)\n",
    "```\n",
    "\n",
    "注意参数如果是列表或者字典，则传参实际和C一样是传的“数组指针”，在函数内可以修改外部变量的值。"
   ]
  },
  {
   "cell_type": "code",
   "execution_count": null,
   "metadata": {},
   "outputs": [],
   "source": [
    "def greet_user(a,b):\n",
    "    \"\"\"\n",
    "    显示简单的问候语。\n",
    "    \"\"\"\n",
    "    a[\"attr1\"]=4;\n",
    "    b=4\n",
    "\n",
    "m={\"attr1\":1,\"attr2\":2}\n",
    "n=2\n",
    "print(f\"m={m},n={n}\")\n",
    "\n",
    "greet_user(m,n)\n",
    "\n",
    "print(f\"m={m},n={n}\")"
   ]
  },
  {
   "attachments": {},
   "cell_type": "markdown",
   "metadata": {},
   "source": [
    "##### 传递任意数量实参\n",
    "\n",
    "未定义的参数将封装到在参数列表最后带星号前缀的变量，作为一个元组\n",
    "\n",
    "约定使用*args表示不确定的位置参数\n",
    "\n",
    "```\n",
    "def func(a,b,*args):\n",
    "    ......\n",
    "func(1,2,\"dsafa\",3,\"sdfa\")\n",
    "```"
   ]
  },
  {
   "cell_type": "code",
   "execution_count": 9,
   "metadata": {},
   "outputs": [
    {
     "name": "stdout",
     "output_type": "stream",
     "text": [
      "('dsafa', 3, 'sdfa')\n"
     ]
    }
   ],
   "source": [
    "def func(a,b,*args):\n",
    "    print(args)\n",
    "func(1,2,\"dsafa\",3,\"sdfa\")"
   ]
  },
  {
   "attachments": {},
   "cell_type": "markdown",
   "metadata": {},
   "source": [
    "##### 传递任意数量关键字实参\n",
    "\n",
    "约定使用*kwargs表示不确定的位置参数\n",
    "\n",
    "```\n",
    "def func(a,b,**kwargs)\n",
    "    ......\n",
    "func(a,b,c=1,d=2)\n",
    "\n",
    "```"
   ]
  },
  {
   "cell_type": "code",
   "execution_count": 10,
   "metadata": {},
   "outputs": [
    {
     "name": "stdout",
     "output_type": "stream",
     "text": [
      "(3,)\n",
      "{'c': 'dsafa', 'd': 4, 'e': 'sdfa'}\n"
     ]
    }
   ],
   "source": [
    "def func(a,b,*args,**kwargs):\n",
    "    print(args)\n",
    "    print(kwargs)\n",
    "func(1,2,3, c=\"dsafa\",d=4,e=\"sdfa\")"
   ]
  },
  {
   "attachments": {},
   "cell_type": "markdown",
   "metadata": {},
   "source": [
    "##### 导入模块和函数\n",
    "\n",
    "可以将函数放在单独的py文件中\n",
    "\n",
    "+ 导入模块： ```import module_name```\n",
    "\n",
    "    调用函数时：```module_name.function_name()```\n",
    "\n",
    "+ 导入模块中的特定函数:  ```from module_name import function_name1, function_name2......```\n",
    "+ 导入模块中的所有函数： ```from module_name import *```\n",
    "\n",
    "    调用函数时：直接使用```function_name()```即可\n",
    "\n",
    "+ 使用模块别名: ```import module_name as md```\n",
    "+ 使用函数别名：```from module_name import function_name as func```\n"
   ]
  },
  {
   "attachments": {},
   "cell_type": "markdown",
   "metadata": {},
   "source": [
    "#### 类"
   ]
  },
  {
   "attachments": {},
   "cell_type": "markdown",
   "metadata": {},
   "source": [
    "格式如下：\n",
    "\n",
    "```\n",
    "class Classname:\n",
    "\n",
    "    def __init__(self, a, b, ... ):\n",
    "        self.attr1=a\n",
    "        self.attr2=b\n",
    "        self.attr3=0 # 默认属性值\n",
    "        ......\n",
    "\n",
    "    def method1(self, ...):\n",
    "\n",
    "    def method2(...):\n",
    "\n",
    "newclass_1=Class(a0,b0,...)\n",
    "\n",
    "```"
   ]
  },
  {
   "attachments": {},
   "cell_type": "markdown",
   "metadata": {},
   "source": [
    "相较于C++的class有如下特点：\n",
    "\n",
    "+ \"构造函数\"为初始化函数__init__\n",
    "+ 类似于c++的this指针，使用self形参实现自指的效果\n",
    "+ \"成员变量\"即类的属性在__init__函数内赋值时被定义"
   ]
  },
  {
   "attachments": {},
   "cell_type": "markdown",
   "metadata": {},
   "source": [
    "##### 类的实例与调用\n",
    "+ 访问属性和方法：使用.\n",
    "+ 修改属性值：可以使用赋值直接修改，但最好是通过方法去修改属性\n",
    "\n",
    "##### 类的继承\n",
    "\n",
    "子类拥有父类的所有属性和方法。\n",
    "\n",
    "+ 子类的定义：\n",
    "\n",
    "    ```\n",
    "    class Car:\n",
    "        def __init__():\n",
    "        ......\n",
    "\n",
    "    class ElectricCar(Car):\n",
    "        def __init__():\n",
    "            super().__init__()\n",
    "    ```\n",
    "\n",
    "    + 父类必须在当前文件中且位于子类前面，父类名在子类名后面的括号中\n",
    "    + 通过super()函数调用父类的初始化函数\n",
    "    + 当子类和父类有重名方法时，子类方法优先\n",
    "\n",
    "\n",
    "+ 实例用作属性\n",
    "    实现较复杂的类时，其属性可以单独作为一个类class2，对该属性赋值时使用类的实例化。"
   ]
  },
  {
   "attachments": {},
   "cell_type": "markdown",
   "metadata": {},
   "source": [
    "#### Numpy"
   ]
  },
  {
   "attachments": {},
   "cell_type": "markdown",
   "metadata": {},
   "source": [
    "##### n维数组对象ndarray\n",
    "+ 维度按轴划分，第0轴是\"竖直方向\"，控制\"行数\"，第1轴是\"水平方向\"，控制\"列数\"，第2轴是\"深度方向\"\n",
    "+ dim属性：输出整数表示维度个数\n",
    "+ shape属性：元组，表示形状\n",
    "+ size属性：该ndarray的元素个数\n",
    "+ dtype属性：该ndarray的元素类型\n",
    "\n",
    "##### ndarray的创建\n",
    "+ 从字面量列表或者嵌套列表创建ndarray:\n",
    "    \n",
    "    ```array([[0,1,2],[4,5,6]])```\n",
    "\n",
    "    []从内到外为0,1,2,3...轴\n",
    "\n",
    "+ 使用array()创建ndarray, 该函数接受一切序列型的对象（包括其他数组）\n",
    "+ 使用array()创建的ndarray，其元素的数据类型自动判断并被存在dtype属性中\n",
    "+ 全0和全1数组: zeros()和ones()\n",
    "+ 空数组（实际每个元素是一个极小的值）：empty()\n",
    "+ arange()，同range函数\n",
    "+ 可以通过dtype参数规定数据类型\n",
    "    ``` arr1=np.array([1,2,3],dtype=np.float64) ```\n"
   ]
  },
  {
   "attachments": {},
   "cell_type": "markdown",
   "metadata": {},
   "source": [
    "\n",
    "##### ndarray的数据类型\n",
    "\n",
    "int32,int64,float64,string等\n",
    "\n",
    "使用astype方法可以进行类型转换\n",
    "\n",
    "注意astype方法总是复制一个数组而非转换原数组"
   ]
  },
  {
   "cell_type": "code",
   "execution_count": 17,
   "metadata": {},
   "outputs": [
    {
     "name": "stdout",
     "output_type": "stream",
     "text": [
      "[b'1.25' b'-9.6' b'42']\n",
      "[ 1.25 -9.6  42.  ]\n"
     ]
    }
   ],
   "source": [
    "import numpy as np\n",
    "numeric_strings = np.array(['1.25', '-9.6', '42'], dtype=np.string_)\n",
    "arr1=numeric_strings.astype(float)\n",
    "print(numeric_strings)\n",
    "print(arr1)"
   ]
  },
  {
   "attachments": {},
   "cell_type": "markdown",
   "metadata": {},
   "source": [
    "#### ndarray的运算\n",
    "+ 形状相同的数组间进行算术运算等同于按元素运算\n",
    "+ 与标量运算，等同于每个元素与标量运算\n",
    "+ 形状相同的数组之间的比较生成布尔数组\n",
    "+ 形状不同的数组之间运算叫做广播(broadcasting)\n",
    "    广播的特性是在每个维度上，按照两个数组间尺寸更大的那个自动填充。"
   ]
  },
  {
   "cell_type": "code",
   "execution_count": 7,
   "metadata": {},
   "outputs": [
    {
     "name": "stdout",
     "output_type": "stream",
     "text": [
      "[[ 0]\n",
      " [10]\n",
      " [20]\n",
      " [30]\n",
      " [40]\n",
      " [50]]\n"
     ]
    }
   ],
   "source": [
    "import numpy as np\n",
    "a = np.arange(0, 60, 10).reshape(-1, 1)\n",
    "print(a)"
   ]
  }
 ],
 "metadata": {
  "kernelspec": {
   "display_name": "d2l",
   "language": "python",
   "name": "python3"
  },
  "language_info": {
   "codemirror_mode": {
    "name": "ipython",
    "version": 3
   },
   "file_extension": ".py",
   "mimetype": "text/x-python",
   "name": "python",
   "nbconvert_exporter": "python",
   "pygments_lexer": "ipython3",
   "version": "3.9.16"
  },
  "orig_nbformat": 4
 },
 "nbformat": 4,
 "nbformat_minor": 2
}
